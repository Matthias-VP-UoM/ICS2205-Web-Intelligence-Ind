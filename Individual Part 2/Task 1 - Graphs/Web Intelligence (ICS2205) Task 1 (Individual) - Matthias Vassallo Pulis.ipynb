{
 "cells": [
  {
   "cell_type": "markdown",
   "metadata": {},
   "source": [
    "### Details\n",
    "\n",
    "This document contains the details of Task 1 for ICS2205. The task is marked out of 100%, however it is equivalent to 10% of the total mark for this unit. <br> \n",
    "While discussions between individual students are considered as healthy, the final deliverable needs to be that produced by you and **not plagiarised** in any way. The **deadline** to submit this task is **12:00pm Monday 10th January 2024**.<br>\n",
    "You need to compile your answer to the task described below in this same notebook. Then upload it, together with a duely filled plagiarism form, onto the appropriate space on the VLE. Deliverables submitted late will be penalised or may not be accepted."
   ]
  },
  {
   "cell_type": "markdown",
   "metadata": {},
   "source": [
    "#### Graphs are everywhere!"
   ]
  },
  {
   "cell_type": "markdown",
   "metadata": {},
   "source": [
    "It is quite common for individuals to use a graph representation when explaining some real-world concept. This is because displaying data graphically can make patterns easier to identify. The person that is attributed the use of a graph to solve a real-world problem is the Swiss mathematician Leonhard Euler who solved the problem of the [Seven Bridges of Koningsberg](https://en.wikipedia.org/wiki/Seven_Bridges_of_K%C3%B6nigsberg)."
   ]
  },
  {
   "cell_type": "markdown",
   "metadata": {},
   "source": [
    "For this task you **can** select one of the papers cited below or **else** use [Google Scholar](https://scholar.google.com/), for instance, to find a research paper that is focused on the use of graphs to model/investigate some real-world problem and/or the use of graph-based methods. You then need to:\n",
    "- write a summary (**in your own words**) of not more than **800 words**, in the space provided below. In your summary you need to ensure that you address the following:\n",
    "    - the (research or real-world) problem dealt with in the chosen research paper **(10 marks)**;\n",
    "    - what is the main contribution to research? **(20 marks)**;\n",
    "    - provide details (if available) about the size and any particular characteristic/s of the graph data/network used **(10 marks)**;\n",
    "    - which graph-based technique/s are mentioned? describe briefly one of these techniques (if more than one technique is mentioned/used discuss the most important one) **(30 marks)**;\n",
    "    - how was the research evaluated? which evaluation metrics were used? explain briefly. **(20 marks)**\n",
    "\n",
    "- It is important that you structure and format your summary appropriately. You can include figures and tables. These need to have a caption and a reference (for provenance). **(10 marks)**"
   ]
  },
  {
   "cell_type": "markdown",
   "metadata": {},
   "source": [
    "**List of papers that you can choose from:**<br>\n",
    "    1. Aditya Grover and Jure Leskovec. \"Node2vec: Scalable Feature Learning for Networks.\" In Proceedings of the 22nd ACM SIGKDD International Conference on Knowledge Discovery and Data Mining (KDD '16). Association for Computing Machinery, New York, NY, USA, 855–864.<br><br>\n",
    "    2. Sun, Yuqin, and Youliang Li. \"A Deep Learning Method for Intelligent Analysis of Sports Training Postures.\" Computational Intelligence and Neuroscience 2022.<br><br>\n",
    "    3. Pini, Azzurra, Jer Hayes, Connor Upton, and Medb Corcoran. \"AI inspired recipes: Designing computationally creative food combos.\" In Extended Abstracts of the 2019 CHI Conference on Human Factors in Computing Systems, pp. 1-6. 2019.<br><br>\n",
    "    4. Liu, Yong, Weixun Wang, Yujing Hu, Jianye Hao, Xingguo Chen, and Yang Gao. \"Multi-agent game abstraction via graph attention neural network.\" In Proceedings of the AAAI Conference on Artificial Intelligence, vol. 34, no. 05, pp. 7211-7218. 2020.<br><br>\n",
    "    5. Deac, Andreea, Yu-Hsiang Huang, Petar Veličković, Pietro Liò, and Jian Tang. \"Drug-drug adverse effect prediction with graph co-attention.\" arXiv preprint arXiv:1905.00534 (2019)."
   ]
  },
  {
   "cell_type": "markdown",
   "metadata": {},
   "source": [
    "#### Your summary starts here. Start by listing the details of the paper that you have selected."
   ]
  },
  {
   "cell_type": "markdown",
   "metadata": {},
   "source": [
    "---------------------------------------------------------------------------------------\n",
    "\n",
    "## Paper selected:\n",
    "Sun, Yuqin, and Youliang Li. \"A Deep Learning Method for Intelligent Analysis of Sports Training Postures.\" Computational Intelligence and Neuroscience 2022."
   ]
  },
  {
   "cell_type": "markdown",
   "metadata": {},
   "source": [
    "------------------------------------------------------------------------------------------------\n",
    "\n",
    "## <u>Summary<u>\n",
    "\n",
    "### Introduction:\n",
    "The research paper at hand addresses the challenging problem of Human Motion Recognition, which aims to enhance the accuracy of motion recognition systems. The study introduces novel methodologies utilizing Graph Convolution Networks (GCN) to analyse human bone sequences and improve both motion classification and performance.\n",
    "\n",
    "### Research Problem:\n",
    "The core problem that is tackled by the research is Human Motion Recognition, which is considered a crucial aspect in various fields such as video understanding, intelligent monitoring, pedestrian tracking and human-computer interaction. Precise identification of human motions is essential for applications ranging from gesture-based interfaces to human-robot interaction.\n",
    "\n",
    "### Main Contributions to Research:\n",
    "This research paper presents three significant innovations and contributions to the field being tackled. The first of these is the creation of a spatial-temporal map of the bones and the execution of a convolution operation on this map. The second contribution to this research is that a weighted fusion of skeletal convolution is conducted in order to capture the features associated with motion types characterised by varying durations. The third and last contribution is that multiscale convolution is performed at the base of each volume in order to acquire features across various scales.\n",
    "\n",
    "### Graph Data/Network Characteristics:\n",
    "The type of graph data being utilized in this paper is the Graph Convolution Network (GCN), which is equipped with several features. Firstly, it has the ability to extract non-European data features. Secondly, due to proposed modifications in the graph data, it can encode hierarchical spatial structure. Lastly, it can utilize several variable time-intensive blocks in order to extract informations from various time spans within human bone sequences.\n",
    "\n",
    "Additionally, this paper elaborates more on two graph-based techniques which come from the regular GCN, which are the Spatial-Temporal Graph Convolutional Networks (ST-GCN) and Motion Structure Graph Convolution Network (AS-GCN) respectively. Among these, the ST-GCN is the most important, as it is the basis for the evaluation of this this research paper. A ST-GCN focuses on capturing spatial and temporal dependencies in graph-structured data. This technique utilizes a graph-based approach to model the connections between skeletal joints over time. By incorporating both spatial and temporal information, a ST-GCN proves effective in recognising complex human motions.\n",
    "\n",
    "### Research Evaluation:\n",
    "The research evaluation primarily revolves around recognition accuracy, serving as the sole evaluation metric. This metric measures the model's ability to accurately identify and classify human motions based on the proposed innovations. The emphasis on accuracy suggests a commitment to ensuring the practical applicability and reliability of the proposed approach.\n",
    "\n",
    "The research was evaluated by conducting two different experiments, which were a Universal Data Set Experiment and an Exercise Training Data Set Experiment. These two experiments had several parameter settings put in place. For example, the frame number of the skeleton sequence was set to 25, ensuring that the size of the feature graph output by convolution of each layer graph matches the size of the multichannel adaptive graph.\n",
    "\n",
    "The first experiment used the NTU-RGB + D120 dataset, which is a very popular dataset for motion recognition. Similar to the frame number, the bone sequence length was set to 25 in the data pretreatment methods in order to have a fair comparison between them. The results showed that the proposed data preprocessing method could eliminate any bone sequence frame loss, which avoids losing any important information, making the data set more accurate. Overall, it is shown that the proposed method could achieve a balance in recognition accuracy, computation amount and parameter number, making it more suitable in scenarios where there are limited resources on recognition accuracy.\n",
    "\n",
    "In the second experiment, a dataset was built from thousands of video clips containing around 150 different athletes. The majority of these video clips were part of training sets while the remaining ones formed part of the actual test sets. Thorughout this experiment, it was made sure that several conditions were put in place. The first one was that the videos were shot in front, and that the athlete being recorded was always displayed. The second condition was that there was nothing blocking the sight of the athlete throughout the clip as well as no background interference, which resulted in more accurate bone data. The last one was that all athletes could perform all necessary actions without any difficulty.\n",
    "\n",
    "### Conclusion:\n",
    "In conclusion, the research paper makes notable strides in addressing the Human Motion Recognition problem. The innovative contributions, particularly the spatial-temporal mapping, weighted fusion of skeletal convolution, and multiscale convolution, showcase a holistic approach to enhancing recognition systems. Leveraging the power of Graph Convolution Networks, specifically ST-GCN, the study demonstrates the capability to extract diverse features and hierarchical spatial structures. The emphasis on accuracy in the evaluation ensures that the proposed methodologies are not only novel but also practically effective in real-world applications. Overall, the research marks a significant advancement in the domain of Human Motion Recognition, offering valuable insights for future developments in this field."
   ]
  }
 ],
 "metadata": {
  "kernelspec": {
   "display_name": "Python 3 (ipykernel)",
   "language": "python",
   "name": "python3"
  },
  "language_info": {
   "codemirror_mode": {
    "name": "ipython",
    "version": 3
   },
   "file_extension": ".py",
   "mimetype": "text/x-python",
   "name": "python",
   "nbconvert_exporter": "python",
   "pygments_lexer": "ipython3",
   "version": "3.9.12"
  }
 },
 "nbformat": 4,
 "nbformat_minor": 4
}
